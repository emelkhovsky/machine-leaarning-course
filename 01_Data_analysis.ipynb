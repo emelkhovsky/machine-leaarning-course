{
 "cells": [
  {
   "cell_type": "code",
   "execution_count": 1,
   "id": "26d38e18",
   "metadata": {},
   "outputs": [],
   "source": [
    "import numpy as np\n",
    "import matplotlib.pyplot as plt\n",
    "%matplotlib inline \n",
    "import pandas as pd\n",
    "import seaborn as sns\n",
    "import sklearn"
   ]
  },
  {
   "cell_type": "markdown",
   "id": "0552639b",
   "metadata": {},
   "source": [
    "# Описание работы"
   ]
  },
  {
   "cell_type": "markdown",
   "id": "c6e64ecd",
   "metadata": {},
   "source": [
    "Компания, которая активно занимается Big Data и Data Science, хочет нанять специалистов по анализу данных среди людей, которые успешно проходят некоторые курсы, проводимые компанией. Компания хочет знать, кто из этих кандидатов действительно хочет работать в компании после обучения или поиска новой работы, потому что это помогает снизить стоимость и время, а также качество обучения или планирования курсов и категоризации кандидатов.\n",
    "\n",
    "Этот набор данных предназначен для понимания факторов, которые заставляют человека уйти с текущей работы для HR-исследований. По данным модели нужно пешить задачу классификации того, будет ли кандидат искать новую работу или же будет работать в компании."
   ]
  },
  {
   "cell_type": "markdown",
   "id": "c307d4bc",
   "metadata": {},
   "source": [
    "## 1. Загрузка и чтение данных"
   ]
  },
  {
   "cell_type": "code",
   "execution_count": 2,
   "id": "1e248fa9",
   "metadata": {},
   "outputs": [
    {
     "data": {
      "text/plain": [
       "(19158, 14)"
      ]
     },
     "execution_count": 2,
     "metadata": {},
     "output_type": "execute_result"
    }
   ],
   "source": [
    "url = \"https://raw.githubusercontent.com/emelkhovsky/machine-leaarning-course/master/aug_train.csv\"\n",
    "data_raw = pd.read_csv(url)\n",
    "data_raw.shape"
   ]
  },
  {
   "cell_type": "markdown",
   "id": "ba6b3dab",
   "metadata": {},
   "source": [
    "Таблица содержит информацию о порядка 20 тысяч кандидатов."
   ]
  },
  {
   "cell_type": "code",
   "execution_count": 3,
   "id": "963cdcd0",
   "metadata": {},
   "outputs": [
    {
     "data": {
      "text/html": [
       "<div>\n",
       "<style scoped>\n",
       "    .dataframe tbody tr th:only-of-type {\n",
       "        vertical-align: middle;\n",
       "    }\n",
       "\n",
       "    .dataframe tbody tr th {\n",
       "        vertical-align: top;\n",
       "    }\n",
       "\n",
       "    .dataframe thead th {\n",
       "        text-align: right;\n",
       "    }\n",
       "</style>\n",
       "<table border=\"1\" class=\"dataframe\">\n",
       "  <thead>\n",
       "    <tr style=\"text-align: right;\">\n",
       "      <th></th>\n",
       "      <th>enrollee_id</th>\n",
       "      <th>city</th>\n",
       "      <th>city_development_index</th>\n",
       "      <th>gender</th>\n",
       "      <th>relevent_experience</th>\n",
       "      <th>enrolled_university</th>\n",
       "      <th>education_level</th>\n",
       "      <th>major_discipline</th>\n",
       "      <th>experience</th>\n",
       "      <th>company_size</th>\n",
       "      <th>company_type</th>\n",
       "      <th>last_new_job</th>\n",
       "      <th>training_hours</th>\n",
       "      <th>target</th>\n",
       "    </tr>\n",
       "  </thead>\n",
       "  <tbody>\n",
       "    <tr>\n",
       "      <th>0</th>\n",
       "      <td>8949</td>\n",
       "      <td>city_103</td>\n",
       "      <td>0.920</td>\n",
       "      <td>Male</td>\n",
       "      <td>Has relevent experience</td>\n",
       "      <td>no_enrollment</td>\n",
       "      <td>Graduate</td>\n",
       "      <td>STEM</td>\n",
       "      <td>&gt;20</td>\n",
       "      <td>NaN</td>\n",
       "      <td>NaN</td>\n",
       "      <td>1</td>\n",
       "      <td>36</td>\n",
       "      <td>1.0</td>\n",
       "    </tr>\n",
       "    <tr>\n",
       "      <th>1</th>\n",
       "      <td>29725</td>\n",
       "      <td>city_40</td>\n",
       "      <td>0.776</td>\n",
       "      <td>Male</td>\n",
       "      <td>No relevent experience</td>\n",
       "      <td>no_enrollment</td>\n",
       "      <td>Graduate</td>\n",
       "      <td>STEM</td>\n",
       "      <td>15</td>\n",
       "      <td>50-99</td>\n",
       "      <td>Pvt Ltd</td>\n",
       "      <td>&gt;4</td>\n",
       "      <td>47</td>\n",
       "      <td>0.0</td>\n",
       "    </tr>\n",
       "    <tr>\n",
       "      <th>2</th>\n",
       "      <td>11561</td>\n",
       "      <td>city_21</td>\n",
       "      <td>0.624</td>\n",
       "      <td>NaN</td>\n",
       "      <td>No relevent experience</td>\n",
       "      <td>Full time course</td>\n",
       "      <td>Graduate</td>\n",
       "      <td>STEM</td>\n",
       "      <td>5</td>\n",
       "      <td>NaN</td>\n",
       "      <td>NaN</td>\n",
       "      <td>never</td>\n",
       "      <td>83</td>\n",
       "      <td>0.0</td>\n",
       "    </tr>\n",
       "    <tr>\n",
       "      <th>3</th>\n",
       "      <td>33241</td>\n",
       "      <td>city_115</td>\n",
       "      <td>0.789</td>\n",
       "      <td>NaN</td>\n",
       "      <td>No relevent experience</td>\n",
       "      <td>NaN</td>\n",
       "      <td>Graduate</td>\n",
       "      <td>Business Degree</td>\n",
       "      <td>&lt;1</td>\n",
       "      <td>NaN</td>\n",
       "      <td>Pvt Ltd</td>\n",
       "      <td>never</td>\n",
       "      <td>52</td>\n",
       "      <td>1.0</td>\n",
       "    </tr>\n",
       "    <tr>\n",
       "      <th>4</th>\n",
       "      <td>666</td>\n",
       "      <td>city_162</td>\n",
       "      <td>0.767</td>\n",
       "      <td>Male</td>\n",
       "      <td>Has relevent experience</td>\n",
       "      <td>no_enrollment</td>\n",
       "      <td>Masters</td>\n",
       "      <td>STEM</td>\n",
       "      <td>&gt;20</td>\n",
       "      <td>50-99</td>\n",
       "      <td>Funded Startup</td>\n",
       "      <td>4</td>\n",
       "      <td>8</td>\n",
       "      <td>0.0</td>\n",
       "    </tr>\n",
       "  </tbody>\n",
       "</table>\n",
       "</div>"
      ],
      "text/plain": [
       "   enrollee_id      city  city_development_index gender  \\\n",
       "0         8949  city_103                   0.920   Male   \n",
       "1        29725   city_40                   0.776   Male   \n",
       "2        11561   city_21                   0.624    NaN   \n",
       "3        33241  city_115                   0.789    NaN   \n",
       "4          666  city_162                   0.767   Male   \n",
       "\n",
       "       relevent_experience enrolled_university education_level  \\\n",
       "0  Has relevent experience       no_enrollment        Graduate   \n",
       "1   No relevent experience       no_enrollment        Graduate   \n",
       "2   No relevent experience    Full time course        Graduate   \n",
       "3   No relevent experience                 NaN        Graduate   \n",
       "4  Has relevent experience       no_enrollment         Masters   \n",
       "\n",
       "  major_discipline experience company_size    company_type last_new_job  \\\n",
       "0             STEM        >20          NaN             NaN            1   \n",
       "1             STEM         15        50-99         Pvt Ltd           >4   \n",
       "2             STEM          5          NaN             NaN        never   \n",
       "3  Business Degree         <1          NaN         Pvt Ltd        never   \n",
       "4             STEM        >20        50-99  Funded Startup            4   \n",
       "\n",
       "   training_hours  target  \n",
       "0              36     1.0  \n",
       "1              47     0.0  \n",
       "2              83     0.0  \n",
       "3              52     1.0  \n",
       "4               8     0.0  "
      ]
     },
     "execution_count": 3,
     "metadata": {},
     "output_type": "execute_result"
    }
   ],
   "source": [
    "data_raw.head()"
   ]
  },
  {
   "cell_type": "markdown",
   "id": "c8dd0768",
   "metadata": {},
   "source": [
    "5 rows × 14 columns"
   ]
  },
  {
   "cell_type": "markdown",
   "id": "fcadaa9c",
   "metadata": {},
   "source": [
    "Каждый кандидат охарактеризован 13 признаками.\n",
    "\n",
    "Будем считать, что первый столбец - id кандидата - не признак, поскольку по id ничего нельзя сказать. "
   ]
  },
  {
   "cell_type": "markdown",
   "id": "8c554ddf",
   "metadata": {},
   "source": [
    "Рассмотрим отдельно каждый признак:"
   ]
  },
  {
   "cell_type": "code",
   "execution_count": 4,
   "id": "57b1da38",
   "metadata": {},
   "outputs": [
    {
     "name": "stdout",
     "output_type": "stream",
     "text": [
      "<class 'pandas.core.frame.DataFrame'>\n",
      "RangeIndex: 19158 entries, 0 to 19157\n",
      "Data columns (total 14 columns):\n",
      " #   Column                  Non-Null Count  Dtype  \n",
      "---  ------                  --------------  -----  \n",
      " 0   enrollee_id             19158 non-null  int64  \n",
      " 1   city                    19158 non-null  object \n",
      " 2   city_development_index  19158 non-null  float64\n",
      " 3   gender                  14650 non-null  object \n",
      " 4   relevent_experience     19158 non-null  object \n",
      " 5   enrolled_university     18772 non-null  object \n",
      " 6   education_level         18698 non-null  object \n",
      " 7   major_discipline        16345 non-null  object \n",
      " 8   experience              19093 non-null  object \n",
      " 9   company_size            13220 non-null  object \n",
      " 10  company_type            13018 non-null  object \n",
      " 11  last_new_job            18735 non-null  object \n",
      " 12  training_hours          19158 non-null  int64  \n",
      " 13  target                  19158 non-null  float64\n",
      "dtypes: float64(2), int64(2), object(10)\n",
      "memory usage: 2.0+ MB\n"
     ]
    }
   ],
   "source": [
    "data_raw.info()"
   ]
  },
  {
   "cell_type": "markdown",
   "id": "be00a36c",
   "metadata": {},
   "source": [
    "1. enrollee_id : Уникальный идентификатор кандидата - числовой\n",
    "2. city: Код города - категориальный\n",
    "3. city_ development _index : Индекс развития города - числовой\n",
    "4. gender: Пол кандидата - категориальный\n",
    "5. relevent_experience: Соответствующий опыт кандидата - категориальный\n",
    "6. enrolled_university: Тип университетского курса, зачисленного, если таковой имеется - категориальный\n",
    "7. education_level: Уровень образования кандидата - категориальный\n",
    "8. major_discipline :Образование основной дисциплины кандидата - категориальный\n",
    "9. experience: Общий опыт кандидата в годах - категориальный\n",
    "10. company_size: Количество сотрудников в компании текущего работодателя - категориальный\n",
    "11. company_type : Тип текущего работодателя - категориальный\n",
    "12. lastnewjob: Разница в годах между предыдущей и текущей работой - категориальный\n",
    "13. training_hours: сколько завершено учебных часов - числовой\n",
    "14. target: 0 – Не хочет менять работу, 1 – Хочет сменить работу - числовой\n",
    "\n",
    "Заменим тип Object категориальных признаков на специальный тип, который предназначен для хранения как раз таких категориальных значений(заодно увидим на какаие категориии делится каждый из признаков):"
   ]
  },
  {
   "cell_type": "code",
   "execution_count": 5,
   "id": "aee0a824",
   "metadata": {},
   "outputs": [
    {
     "data": {
      "text/plain": [
       "CategoricalDtype(categories=['city_1', 'city_10', 'city_100', 'city_101', 'city_102',\n",
       "                  'city_103', 'city_104', 'city_105', 'city_106', 'city_107',\n",
       "                  ...\n",
       "                  'city_84', 'city_89', 'city_9', 'city_90', 'city_91',\n",
       "                  'city_93', 'city_94', 'city_97', 'city_98', 'city_99'],\n",
       ", ordered=False)"
      ]
     },
     "execution_count": 5,
     "metadata": {},
     "output_type": "execute_result"
    }
   ],
   "source": [
    "\n",
    "data_raw['city'] = data_raw['city'].astype('category')\n",
    "data_raw['gender'] = data_raw['gender'].astype('category')\n",
    "data_raw['relevent_experience'] = data_raw['relevent_experience'].astype('category')\n",
    "data_raw['enrolled_university'] = data_raw['enrolled_university'].astype('category')\n",
    "data_raw['education_level'] = data_raw['education_level'].astype('category')\n",
    "data_raw['major_discipline'] = data_raw['major_discipline'].astype('category')\n",
    "data_raw['experience'] = data_raw['experience'].astype('category')\n",
    "data_raw['company_size'] = data_raw['company_size'].astype('category')\n",
    "data_raw['company_type'] = data_raw['company_type'].astype('category')\n",
    "data_raw['last_new_job'] = data_raw['last_new_job'].astype('category')\n",
    "\n",
    "data_raw['city'].dtype"
   ]
  },
  {
   "cell_type": "code",
   "execution_count": 6,
   "id": "0aa28f00",
   "metadata": {},
   "outputs": [
    {
     "data": {
      "text/plain": [
       "CategoricalDtype(categories=['Female', 'Male', 'Other'], ordered=False)"
      ]
     },
     "execution_count": 6,
     "metadata": {},
     "output_type": "execute_result"
    }
   ],
   "source": [
    "data_raw['gender'].dtype"
   ]
  },
  {
   "cell_type": "code",
   "execution_count": 7,
   "id": "ea82cb16",
   "metadata": {},
   "outputs": [
    {
     "data": {
      "text/plain": [
       "CategoricalDtype(categories=['Has relevent experience', 'No relevent experience'], ordered=False)"
      ]
     },
     "execution_count": 7,
     "metadata": {},
     "output_type": "execute_result"
    }
   ],
   "source": [
    "data_raw['relevent_experience'].dtype"
   ]
  },
  {
   "cell_type": "code",
   "execution_count": 8,
   "id": "bee03f75",
   "metadata": {},
   "outputs": [
    {
     "data": {
      "text/plain": [
       "CategoricalDtype(categories=['Full time course', 'Part time course', 'no_enrollment'], ordered=False)"
      ]
     },
     "execution_count": 8,
     "metadata": {},
     "output_type": "execute_result"
    }
   ],
   "source": [
    "data_raw['enrolled_university'].dtype"
   ]
  },
  {
   "cell_type": "code",
   "execution_count": 9,
   "id": "a54a1140",
   "metadata": {},
   "outputs": [
    {
     "data": {
      "text/plain": [
       "CategoricalDtype(categories=['Graduate', 'High School', 'Masters', 'Phd',\n",
       "                  'Primary School'],\n",
       ", ordered=False)"
      ]
     },
     "execution_count": 9,
     "metadata": {},
     "output_type": "execute_result"
    }
   ],
   "source": [
    "data_raw['education_level'].dtype"
   ]
  },
  {
   "cell_type": "code",
   "execution_count": 10,
   "id": "350b0843",
   "metadata": {},
   "outputs": [
    {
     "data": {
      "text/plain": [
       "CategoricalDtype(categories=['Arts', 'Business Degree', 'Humanities', 'No Major', 'Other',\n",
       "                  'STEM'],\n",
       ", ordered=False)"
      ]
     },
     "execution_count": 10,
     "metadata": {},
     "output_type": "execute_result"
    }
   ],
   "source": [
    "data_raw['major_discipline'].dtype"
   ]
  },
  {
   "cell_type": "code",
   "execution_count": 11,
   "id": "a712dc39",
   "metadata": {},
   "outputs": [
    {
     "data": {
      "text/plain": [
       "CategoricalDtype(categories=['1', '10', '11', '12', '13', '14', '15', '16', '17', '18',\n",
       "                  '19', '2', '20', '3', '4', '5', '6', '7', '8', '9', '<1',\n",
       "                  '>20'],\n",
       ", ordered=False)"
      ]
     },
     "execution_count": 11,
     "metadata": {},
     "output_type": "execute_result"
    }
   ],
   "source": [
    "data_raw['experience'].dtype"
   ]
  },
  {
   "cell_type": "code",
   "execution_count": 12,
   "id": "0d80cc84",
   "metadata": {},
   "outputs": [
    {
     "data": {
      "text/plain": [
       "CategoricalDtype(categories=['10/49', '100-500', '1000-4999', '10000+', '50-99',\n",
       "                  '500-999', '5000-9999', '<10'],\n",
       ", ordered=False)"
      ]
     },
     "execution_count": 12,
     "metadata": {},
     "output_type": "execute_result"
    }
   ],
   "source": [
    "data_raw['company_size'].dtype"
   ]
  },
  {
   "cell_type": "code",
   "execution_count": 13,
   "id": "eb164dcc",
   "metadata": {},
   "outputs": [
    {
     "data": {
      "text/plain": [
       "CategoricalDtype(categories=['Early Stage Startup', 'Funded Startup', 'NGO', 'Other',\n",
       "                  'Public Sector', 'Pvt Ltd'],\n",
       ", ordered=False)"
      ]
     },
     "execution_count": 13,
     "metadata": {},
     "output_type": "execute_result"
    }
   ],
   "source": [
    "data_raw['company_type'].dtype"
   ]
  },
  {
   "cell_type": "code",
   "execution_count": 14,
   "id": "115201f1",
   "metadata": {},
   "outputs": [
    {
     "data": {
      "text/plain": [
       "CategoricalDtype(categories=['1', '2', '3', '4', '>4', 'never'], ordered=False)"
      ]
     },
     "execution_count": 14,
     "metadata": {},
     "output_type": "execute_result"
    }
   ],
   "source": [
    "data_raw['last_new_job'].dtype"
   ]
  },
  {
   "cell_type": "markdown",
   "id": "8727b3d9",
   "metadata": {},
   "source": [
    "## 2. Визуализация и основные характеристики"
   ]
  },
  {
   "cell_type": "markdown",
   "id": "c3b2d115",
   "metadata": {},
   "source": [
    "Получим информацию о количественных признаках:"
   ]
  },
  {
   "cell_type": "code",
   "execution_count": 15,
   "id": "c6611efe",
   "metadata": {},
   "outputs": [
    {
     "data": {
      "text/html": [
       "<div>\n",
       "<style scoped>\n",
       "    .dataframe tbody tr th:only-of-type {\n",
       "        vertical-align: middle;\n",
       "    }\n",
       "\n",
       "    .dataframe tbody tr th {\n",
       "        vertical-align: top;\n",
       "    }\n",
       "\n",
       "    .dataframe thead th {\n",
       "        text-align: right;\n",
       "    }\n",
       "</style>\n",
       "<table border=\"1\" class=\"dataframe\">\n",
       "  <thead>\n",
       "    <tr style=\"text-align: right;\">\n",
       "      <th></th>\n",
       "      <th>enrollee_id</th>\n",
       "      <th>city_development_index</th>\n",
       "      <th>training_hours</th>\n",
       "      <th>target</th>\n",
       "    </tr>\n",
       "  </thead>\n",
       "  <tbody>\n",
       "    <tr>\n",
       "      <th>count</th>\n",
       "      <td>19158.000000</td>\n",
       "      <td>19158.000000</td>\n",
       "      <td>19158.000000</td>\n",
       "      <td>19158.000000</td>\n",
       "    </tr>\n",
       "    <tr>\n",
       "      <th>mean</th>\n",
       "      <td>16875.358179</td>\n",
       "      <td>0.828848</td>\n",
       "      <td>65.366896</td>\n",
       "      <td>0.249348</td>\n",
       "    </tr>\n",
       "    <tr>\n",
       "      <th>std</th>\n",
       "      <td>9616.292592</td>\n",
       "      <td>0.123362</td>\n",
       "      <td>60.058462</td>\n",
       "      <td>0.432647</td>\n",
       "    </tr>\n",
       "    <tr>\n",
       "      <th>min</th>\n",
       "      <td>1.000000</td>\n",
       "      <td>0.448000</td>\n",
       "      <td>1.000000</td>\n",
       "      <td>0.000000</td>\n",
       "    </tr>\n",
       "    <tr>\n",
       "      <th>25%</th>\n",
       "      <td>8554.250000</td>\n",
       "      <td>0.740000</td>\n",
       "      <td>23.000000</td>\n",
       "      <td>0.000000</td>\n",
       "    </tr>\n",
       "    <tr>\n",
       "      <th>50%</th>\n",
       "      <td>16982.500000</td>\n",
       "      <td>0.903000</td>\n",
       "      <td>47.000000</td>\n",
       "      <td>0.000000</td>\n",
       "    </tr>\n",
       "    <tr>\n",
       "      <th>75%</th>\n",
       "      <td>25169.750000</td>\n",
       "      <td>0.920000</td>\n",
       "      <td>88.000000</td>\n",
       "      <td>0.000000</td>\n",
       "    </tr>\n",
       "    <tr>\n",
       "      <th>max</th>\n",
       "      <td>33380.000000</td>\n",
       "      <td>0.949000</td>\n",
       "      <td>336.000000</td>\n",
       "      <td>1.000000</td>\n",
       "    </tr>\n",
       "  </tbody>\n",
       "</table>\n",
       "</div>"
      ],
      "text/plain": [
       "        enrollee_id  city_development_index  training_hours        target\n",
       "count  19158.000000            19158.000000    19158.000000  19158.000000\n",
       "mean   16875.358179                0.828848       65.366896      0.249348\n",
       "std     9616.292592                0.123362       60.058462      0.432647\n",
       "min        1.000000                0.448000        1.000000      0.000000\n",
       "25%     8554.250000                0.740000       23.000000      0.000000\n",
       "50%    16982.500000                0.903000       47.000000      0.000000\n",
       "75%    25169.750000                0.920000       88.000000      0.000000\n",
       "max    33380.000000                0.949000      336.000000      1.000000"
      ]
     },
     "execution_count": 15,
     "metadata": {},
     "output_type": "execute_result"
    }
   ],
   "source": [
    "data_raw.describe()"
   ]
  },
  {
   "cell_type": "markdown",
   "id": "3c8dc416",
   "metadata": {},
   "source": [
    "Таким образом, мы получили:\n",
    "\n",
    "1. Count - Количество значений для каждого признака. У каждого признака это число равно 19158. Пропущенных значений нет.\n",
    "2. Mean - Средние значения.\n",
    "3. STD - Стандартные отклонения. Данная константа показывает, на сколько в среднем отклоняются варианты от среднего значения.\n",
    "4. Min/Max - Минимальные/Максимальные значения.\n",
    "5. 25%, 75% - Пертвый и третий квартили. То есть это значения, которые объект не превышает с вероятностью 25% и 75% соответственно.\n",
    "6. 50% - Квартиль 50% или медиана.\n",
    "\n",
    "Рассмотрим несколько самых интересных признаков отдельно."
   ]
  },
  {
   "cell_type": "markdown",
   "id": "36df830b",
   "metadata": {},
   "source": [
    "**city_ development _index** (индекс развития города кандидата). Средний индекс кандидатов приблизительно 0.82. Среднее отклонение невелико, поэтому на анализ почти не влияет."
   ]
  },
  {
   "cell_type": "code",
   "execution_count": 16,
   "id": "bf19ad70",
   "metadata": {},
   "outputs": [
    {
     "data": {
      "image/png": "[encoded data removed]",
      "text/plain": [
       "<Figure size 360x360 with 1 Axes>"
      ]
     },
     "metadata": {
      "needs_background": "light"
     },
     "output_type": "display_data"
    }
   ],
   "source": [
    "sns.displot(data_raw['city_development_index'], bins=15)\n",
    "plt.grid()\n",
    "pass"
   ]
  },
  {
   "cell_type": "markdown",
   "id": "981981dc",
   "metadata": {},
   "source": [
    "На гистограмме видно, что кандидатов из городов с лучшим развитием гораздо больше, чем из малоразвитых городов."
   ]
  },
  {
   "cell_type": "markdown",
   "id": "019a30b9",
   "metadata": {},
   "source": [
    "**training hours** (кол-во учебных часов), среднее кол-во около 65 часов. Среднее отклонение равно около 60 часам, это значит, что "
   ]
  },
  {
   "cell_type": "code",
   "execution_count": 17,
   "id": "57a3fe7a",
   "metadata": {},
   "outputs": [
    {
     "data": {
      "image/png": "[encoded data removed]",
      "text/plain": [
       "<Figure size 360x360 with 1 Axes>"
      ]
     },
     "metadata": {
      "needs_background": "light"
     },
     "output_type": "display_data"
    }
   ],
   "source": [
    "sns.displot(data_raw['training_hours'], bins=15)\n",
    "plt.grid()\n",
    "pass"
   ]
  },
  {
   "cell_type": "markdown",
   "id": "9efa982f",
   "metadata": {},
   "source": [
    "По гистограмме видно, что большинство кандидатов имеет кол-во учебных часов менее 60"
   ]
  },
  {
   "cell_type": "markdown",
   "id": "eea3f47a",
   "metadata": {},
   "source": [
    "Теперь рассмотрим категориальные признаки:"
   ]
  },
  {
   "cell_type": "code",
   "execution_count": 18,
   "id": "8c7822e1",
   "metadata": {},
   "outputs": [
    {
     "data": {
      "text/html": [
       "<div>\n",
       "<style scoped>\n",
       "    .dataframe tbody tr th:only-of-type {\n",
       "        vertical-align: middle;\n",
       "    }\n",
       "\n",
       "    .dataframe tbody tr th {\n",
       "        vertical-align: top;\n",
       "    }\n",
       "\n",
       "    .dataframe thead th {\n",
       "        text-align: right;\n",
       "    }\n",
       "</style>\n",
       "<table border=\"1\" class=\"dataframe\">\n",
       "  <thead>\n",
       "    <tr style=\"text-align: right;\">\n",
       "      <th></th>\n",
       "      <th>city</th>\n",
       "      <th>gender</th>\n",
       "      <th>relevent_experience</th>\n",
       "      <th>enrolled_university</th>\n",
       "      <th>education_level</th>\n",
       "      <th>major_discipline</th>\n",
       "      <th>experience</th>\n",
       "      <th>company_size</th>\n",
       "      <th>company_type</th>\n",
       "      <th>last_new_job</th>\n",
       "    </tr>\n",
       "  </thead>\n",
       "  <tbody>\n",
       "    <tr>\n",
       "      <th>count</th>\n",
       "      <td>19158</td>\n",
       "      <td>14650</td>\n",
       "      <td>19158</td>\n",
       "      <td>18772</td>\n",
       "      <td>18698</td>\n",
       "      <td>16345</td>\n",
       "      <td>19093</td>\n",
       "      <td>13220</td>\n",
       "      <td>13018</td>\n",
       "      <td>18735</td>\n",
       "    </tr>\n",
       "    <tr>\n",
       "      <th>unique</th>\n",
       "      <td>123</td>\n",
       "      <td>3</td>\n",
       "      <td>2</td>\n",
       "      <td>3</td>\n",
       "      <td>5</td>\n",
       "      <td>6</td>\n",
       "      <td>22</td>\n",
       "      <td>8</td>\n",
       "      <td>6</td>\n",
       "      <td>6</td>\n",
       "    </tr>\n",
       "    <tr>\n",
       "      <th>top</th>\n",
       "      <td>city_103</td>\n",
       "      <td>Male</td>\n",
       "      <td>Has relevent experience</td>\n",
       "      <td>no_enrollment</td>\n",
       "      <td>Graduate</td>\n",
       "      <td>STEM</td>\n",
       "      <td>&gt;20</td>\n",
       "      <td>50-99</td>\n",
       "      <td>Pvt Ltd</td>\n",
       "      <td>1</td>\n",
       "    </tr>\n",
       "    <tr>\n",
       "      <th>freq</th>\n",
       "      <td>4355</td>\n",
       "      <td>13221</td>\n",
       "      <td>13792</td>\n",
       "      <td>13817</td>\n",
       "      <td>11598</td>\n",
       "      <td>14492</td>\n",
       "      <td>3286</td>\n",
       "      <td>3083</td>\n",
       "      <td>9817</td>\n",
       "      <td>8040</td>\n",
       "    </tr>\n",
       "  </tbody>\n",
       "</table>\n",
       "</div>"
      ],
      "text/plain": [
       "            city gender      relevent_experience enrolled_university  \\\n",
       "count      19158  14650                    19158               18772   \n",
       "unique       123      3                        2                   3   \n",
       "top     city_103   Male  Has relevent experience       no_enrollment   \n",
       "freq        4355  13221                    13792               13817   \n",
       "\n",
       "       education_level major_discipline experience company_size company_type  \\\n",
       "count            18698            16345      19093        13220        13018   \n",
       "unique               5                6         22            8            6   \n",
       "top           Graduate             STEM        >20        50-99      Pvt Ltd   \n",
       "freq             11598            14492       3286         3083         9817   \n",
       "\n",
       "       last_new_job  \n",
       "count         18735  \n",
       "unique            6  \n",
       "top               1  \n",
       "freq           8040  "
      ]
     },
     "execution_count": 18,
     "metadata": {},
     "output_type": "execute_result"
    }
   ],
   "source": [
    "data_raw.describe(include=['category'])"
   ]
  },
  {
   "cell_type": "markdown",
   "id": "61d0972a",
   "metadata": {},
   "source": [
    "Для категориальных признаков мы получили такие характеристики, как:\n",
    "\n",
    "1. Count - Количество значений. Записей 19158, значит есть пропущенные значения почти для каждого категориального признака(небольшие, заисключение типа компании и гендера)\n",
    "2. Unique - Количество уникальных значений.\n",
    "3. Top - Наиболее встречающееся значение.\n",
    "4. Freq - Частота наиболее встречающегося значения.\n",
    "\n",
    "Вычислим матрицу корреляции для количественных признаков (чтобы выявить связи между признаками):"
   ]
  },
  {
   "cell_type": "code",
   "execution_count": 19,
   "id": "1af16ec6",
   "metadata": {},
   "outputs": [
    {
     "data": {
      "text/html": [
       "<div>\n",
       "<style scoped>\n",
       "    .dataframe tbody tr th:only-of-type {\n",
       "        vertical-align: middle;\n",
       "    }\n",
       "\n",
       "    .dataframe tbody tr th {\n",
       "        vertical-align: top;\n",
       "    }\n",
       "\n",
       "    .dataframe thead th {\n",
       "        text-align: right;\n",
       "    }\n",
       "</style>\n",
       "<table border=\"1\" class=\"dataframe\">\n",
       "  <thead>\n",
       "    <tr style=\"text-align: right;\">\n",
       "      <th></th>\n",
       "      <th>enrollee_id</th>\n",
       "      <th>city_development_index</th>\n",
       "      <th>training_hours</th>\n",
       "      <th>target</th>\n",
       "    </tr>\n",
       "  </thead>\n",
       "  <tbody>\n",
       "    <tr>\n",
       "      <th>enrollee_id</th>\n",
       "      <td>1.000000</td>\n",
       "      <td>-0.040455</td>\n",
       "      <td>0.000998</td>\n",
       "      <td>0.049475</td>\n",
       "    </tr>\n",
       "    <tr>\n",
       "      <th>city_development_index</th>\n",
       "      <td>-0.040455</td>\n",
       "      <td>1.000000</td>\n",
       "      <td>0.001920</td>\n",
       "      <td>-0.341665</td>\n",
       "    </tr>\n",
       "    <tr>\n",
       "      <th>training_hours</th>\n",
       "      <td>0.000998</td>\n",
       "      <td>0.001920</td>\n",
       "      <td>1.000000</td>\n",
       "      <td>-0.021577</td>\n",
       "    </tr>\n",
       "    <tr>\n",
       "      <th>target</th>\n",
       "      <td>0.049475</td>\n",
       "      <td>-0.341665</td>\n",
       "      <td>-0.021577</td>\n",
       "      <td>1.000000</td>\n",
       "    </tr>\n",
       "  </tbody>\n",
       "</table>\n",
       "</div>"
      ],
      "text/plain": [
       "                        enrollee_id  city_development_index  training_hours  \\\n",
       "enrollee_id                1.000000               -0.040455        0.000998   \n",
       "city_development_index    -0.040455                1.000000        0.001920   \n",
       "training_hours             0.000998                0.001920        1.000000   \n",
       "target                     0.049475               -0.341665       -0.021577   \n",
       "\n",
       "                          target  \n",
       "enrollee_id             0.049475  \n",
       "city_development_index -0.341665  \n",
       "training_hours         -0.021577  \n",
       "target                  1.000000  "
      ]
     },
     "execution_count": 19,
     "metadata": {},
     "output_type": "execute_result"
    }
   ],
   "source": [
    "corr_matrix = data_raw.corr()\n",
    "corr_matrix"
   ]
  },
  {
   "cell_type": "code",
   "execution_count": 20,
   "id": "885b4f28",
   "metadata": {},
   "outputs": [
    {
     "data": {
      "image/png": "[encoded data removed]",
      "text/plain": [
       "<Figure size 432x288 with 2 Axes>"
      ]
     },
     "metadata": {
      "needs_background": "light"
     },
     "output_type": "display_data"
    }
   ],
   "source": [
    "sns.heatmap(corr_matrix, square=True, cmap='coolwarm')\n",
    "pass"
   ]
  },
  {
   "cell_type": "markdown",
   "id": "8e0b9920",
   "metadata": {},
   "source": [
    "Благодаря визуальному образу корреляционной матрицы можно заметить, что числовые признаки почти никак не свзаны между собой"
   ]
  },
  {
   "cell_type": "code",
   "execution_count": 21,
   "id": "74c04c14",
   "metadata": {},
   "outputs": [
    {
     "data": {
      "text/html": [
       "<div>\n",
       "<style scoped>\n",
       "    .dataframe tbody tr th:only-of-type {\n",
       "        vertical-align: middle;\n",
       "    }\n",
       "\n",
       "    .dataframe tbody tr th {\n",
       "        vertical-align: top;\n",
       "    }\n",
       "\n",
       "    .dataframe thead th {\n",
       "        text-align: right;\n",
       "    }\n",
       "</style>\n",
       "<table border=\"1\" class=\"dataframe\">\n",
       "  <thead>\n",
       "    <tr style=\"text-align: right;\">\n",
       "      <th></th>\n",
       "      <th>enrollee_id</th>\n",
       "      <th>city_development_index</th>\n",
       "      <th>training_hours</th>\n",
       "      <th>target</th>\n",
       "    </tr>\n",
       "  </thead>\n",
       "  <tbody>\n",
       "    <tr>\n",
       "      <th>enrollee_id</th>\n",
       "      <td>True</td>\n",
       "      <td>False</td>\n",
       "      <td>False</td>\n",
       "      <td>False</td>\n",
       "    </tr>\n",
       "    <tr>\n",
       "      <th>city_development_index</th>\n",
       "      <td>False</td>\n",
       "      <td>True</td>\n",
       "      <td>False</td>\n",
       "      <td>False</td>\n",
       "    </tr>\n",
       "    <tr>\n",
       "      <th>training_hours</th>\n",
       "      <td>False</td>\n",
       "      <td>False</td>\n",
       "      <td>True</td>\n",
       "      <td>False</td>\n",
       "    </tr>\n",
       "    <tr>\n",
       "      <th>target</th>\n",
       "      <td>False</td>\n",
       "      <td>False</td>\n",
       "      <td>False</td>\n",
       "      <td>True</td>\n",
       "    </tr>\n",
       "  </tbody>\n",
       "</table>\n",
       "</div>"
      ],
      "text/plain": [
       "                        enrollee_id  city_development_index  training_hours  \\\n",
       "enrollee_id                    True                   False           False   \n",
       "city_development_index        False                    True           False   \n",
       "training_hours                False                   False            True   \n",
       "target                        False                   False           False   \n",
       "\n",
       "                        target  \n",
       "enrollee_id              False  \n",
       "city_development_index   False  \n",
       "training_hours           False  \n",
       "target                    True  "
      ]
     },
     "execution_count": 21,
     "metadata": {},
     "output_type": "execute_result"
    }
   ],
   "source": [
    "corr_matrix >= 0.7"
   ]
  },
  {
   "cell_type": "markdown",
   "id": "5e473981",
   "metadata": {},
   "source": [
    "Все числовые признаки вообще никак не связаны между собой, т.к. коэффициент корреляции меньше 0.7.\n",
    "\n",
    "Рассмотрим категориальные признаки. \n",
    "\n",
    "**city**:"
   ]
  },
  {
   "cell_type": "code",
   "execution_count": 22,
   "id": "c77aa21c",
   "metadata": {},
   "outputs": [
    {
     "data": {
      "text/plain": [
       "city_103    4355\n",
       "city_21     2702\n",
       "city_16     1533\n",
       "city_114    1336\n",
       "city_160     845\n",
       "            ... \n",
       "city_111       3\n",
       "city_129       3\n",
       "city_121       3\n",
       "city_171       1\n",
       "city_140       1\n",
       "Name: city, Length: 123, dtype: int64"
      ]
     },
     "execution_count": 22,
     "metadata": {},
     "output_type": "execute_result"
    }
   ],
   "source": [
    "data_raw['city'].value_counts()"
   ]
  },
  {
   "cell_type": "code",
   "execution_count": 23,
   "id": "6b6aafde",
   "metadata": {},
   "outputs": [
    {
     "data": {
      "image/png": "[encoded data removed]",
      "text/plain": [
       "<Figure size 432x288 with 1 Axes>"
      ]
     },
     "metadata": {
      "needs_background": "light"
     },
     "output_type": "display_data"
    }
   ],
   "source": [
    "sns.countplot(x='city', data=data_raw)\n",
    "pass"
   ]
  },
  {
   "cell_type": "markdown",
   "id": "4d5fabca",
   "metadata": {},
   "source": [
    "В данном наборе данных очень много городов, но преимущественно расматриваются кандидаты и города city_103."
   ]
  },
  {
   "cell_type": "code",
   "execution_count": 24,
   "id": "37ec0274",
   "metadata": {},
   "outputs": [
    {
     "data": {
      "text/plain": [
       "Male      13221\n",
       "Female     1238\n",
       "Other       191\n",
       "Name: gender, dtype: int64"
      ]
     },
     "execution_count": 24,
     "metadata": {},
     "output_type": "execute_result"
    }
   ],
   "source": [
    "data_raw['gender'].value_counts()"
   ]
  },
  {
   "cell_type": "code",
   "execution_count": 25,
   "id": "1a04cd1c",
   "metadata": {},
   "outputs": [
    {
     "data": {
      "image/png": "[encoded data removed]",
      "text/plain": [
       "<Figure size 432x288 with 1 Axes>"
      ]
     },
     "metadata": {
      "needs_background": "light"
     },
     "output_type": "display_data"
    }
   ],
   "source": [
    "sns.countplot(x='gender', data=data_raw)\n",
    "pass"
   ]
  },
  {
   "cell_type": "markdown",
   "id": "dc389422",
   "metadata": {},
   "source": [
    "По графику видно, что кандидатов-мужчин больше во много раз. Женщин больше чем оставшихся гендеров."
   ]
  },
  {
   "cell_type": "code",
   "execution_count": 26,
   "id": "0fbe0701",
   "metadata": {},
   "outputs": [
    {
     "data": {
      "text/plain": [
       "Has relevent experience    13792\n",
       "No relevent experience      5366\n",
       "Name: relevent_experience, dtype: int64"
      ]
     },
     "execution_count": 26,
     "metadata": {},
     "output_type": "execute_result"
    }
   ],
   "source": [
    "data_raw['relevent_experience'].value_counts()"
   ]
  },
  {
   "cell_type": "code",
   "execution_count": 27,
   "id": "577e0aa5",
   "metadata": {},
   "outputs": [
    {
     "data": {
      "image/png": "[encoded data removed]",
      "text/plain": [
       "<Figure size 432x288 with 1 Axes>"
      ]
     },
     "metadata": {
      "needs_background": "light"
     },
     "output_type": "display_data"
    }
   ],
   "source": [
    "sns.countplot(x='relevent_experience', data=data_raw)\n",
    "pass"
   ]
  },
  {
   "cell_type": "markdown",
   "id": "2a1395fe",
   "metadata": {},
   "source": [
    "Кандитов, имеющих релевантный опыт больше почти в 2 раза"
   ]
  },
  {
   "cell_type": "code",
   "execution_count": 28,
   "id": "fadff3d5",
   "metadata": {},
   "outputs": [
    {
     "data": {
      "text/plain": [
       "no_enrollment       13817\n",
       "Full time course     3757\n",
       "Part time course     1198\n",
       "Name: enrolled_university, dtype: int64"
      ]
     },
     "execution_count": 28,
     "metadata": {},
     "output_type": "execute_result"
    }
   ],
   "source": [
    "data_raw['enrolled_university'].value_counts()"
   ]
  },
  {
   "cell_type": "code",
   "execution_count": 29,
   "id": "9a1acf8c",
   "metadata": {},
   "outputs": [
    {
     "data": {
      "image/png": "[encoded data removed]",
      "text/plain": [
       "<Figure size 432x288 with 1 Axes>"
      ]
     },
     "metadata": {
      "needs_background": "light"
     },
     "output_type": "display_data"
    }
   ],
   "source": [
    "sns.countplot(x='enrolled_university', data=data_raw)\n",
    "pass"
   ]
  },
  {
   "cell_type": "markdown",
   "id": "93cb9459",
   "metadata": {},
   "source": [
    "Большинство кандидатов в данный момент не числяться на курсе универстита"
   ]
  },
  {
   "cell_type": "code",
   "execution_count": 30,
   "id": "b173733b",
   "metadata": {},
   "outputs": [
    {
     "data": {
      "text/plain": [
       "Graduate          11598\n",
       "Masters            4361\n",
       "High School        2017\n",
       "Phd                 414\n",
       "Primary School      308\n",
       "Name: education_level, dtype: int64"
      ]
     },
     "execution_count": 30,
     "metadata": {},
     "output_type": "execute_result"
    }
   ],
   "source": [
    "data_raw['education_level'].value_counts()"
   ]
  },
  {
   "cell_type": "code",
   "execution_count": 31,
   "id": "2c98daf0",
   "metadata": {},
   "outputs": [
    {
     "data": {
      "image/png": "[encoded data removed]",
      "text/plain": [
       "<Figure size 432x288 with 1 Axes>"
      ]
     },
     "metadata": {
      "needs_background": "light"
     },
     "output_type": "display_data"
    }
   ],
   "source": [
    "sns.countplot(x='education_level', data=data_raw)\n",
    "pass"
   ]
  },
  {
   "cell_type": "markdown",
   "id": "231f532c",
   "metadata": {},
   "source": [
    "Большинство кандитатов имееют высшее образование, но без магистратуры"
   ]
  },
  {
   "cell_type": "code",
   "execution_count": 32,
   "id": "6e161a2c",
   "metadata": {},
   "outputs": [
    {
     "data": {
      "text/plain": [
       "STEM               14492\n",
       "Humanities           669\n",
       "Other                381\n",
       "Business Degree      327\n",
       "Arts                 253\n",
       "No Major             223\n",
       "Name: major_discipline, dtype: int64"
      ]
     },
     "execution_count": 32,
     "metadata": {},
     "output_type": "execute_result"
    }
   ],
   "source": [
    "data_raw['major_discipline'].value_counts()"
   ]
  },
  {
   "cell_type": "code",
   "execution_count": 33,
   "id": "28252d5f",
   "metadata": {},
   "outputs": [
    {
     "data": {
      "image/png": "[encoded data removed]",
      "text/plain": [
       "<Figure size 432x288 with 1 Axes>"
      ]
     },
     "metadata": {
      "needs_background": "light"
     },
     "output_type": "display_data"
    }
   ],
   "source": [
    "sns.countplot(x='major_discipline', data=data_raw)\n",
    "pass"
   ]
  },
  {
   "cell_type": "markdown",
   "id": "9420a6b9",
   "metadata": {},
   "source": [
    "Почти все кандидаты заканчивали направления по техническим специальностями, естественным наукам"
   ]
  },
  {
   "cell_type": "code",
   "execution_count": 34,
   "id": "85577c74",
   "metadata": {},
   "outputs": [
    {
     "data": {
      "text/plain": [
       ">20    3286\n",
       "5      1430\n",
       "4      1403\n",
       "3      1354\n",
       "6      1216\n",
       "2      1127\n",
       "7      1028\n",
       "10      985\n",
       "9       980\n",
       "8       802\n",
       "15      686\n",
       "11      664\n",
       "14      586\n",
       "1       549\n",
       "<1      522\n",
       "16      508\n",
       "12      494\n",
       "13      399\n",
       "17      342\n",
       "19      304\n",
       "18      280\n",
       "20      148\n",
       "Name: experience, dtype: int64"
      ]
     },
     "execution_count": 34,
     "metadata": {},
     "output_type": "execute_result"
    }
   ],
   "source": [
    "data_raw['experience'].value_counts()"
   ]
  },
  {
   "cell_type": "code",
   "execution_count": 35,
   "id": "39fd6bce",
   "metadata": {},
   "outputs": [
    {
     "data": {
      "image/png": "[encoded data removed]",
      "text/plain": [
       "<Figure size 432x288 with 1 Axes>"
      ]
     },
     "metadata": {
      "needs_background": "light"
     },
     "output_type": "display_data"
    }
   ],
   "source": [
    "sns.countplot(x='experience', data=data_raw)\n",
    "pass"
   ]
  },
  {
   "cell_type": "markdown",
   "id": "95a17833",
   "metadata": {},
   "source": [
    "Большинство кандидатов имеет опыт больше 20 лет\n",
    "Остальные года опыта распределны примерно одинаково"
   ]
  },
  {
   "cell_type": "code",
   "execution_count": 36,
   "id": "b287e718",
   "metadata": {},
   "outputs": [
    {
     "data": {
      "text/plain": [
       "50-99        3083\n",
       "100-500      2571\n",
       "10000+       2019\n",
       "10/49        1471\n",
       "1000-4999    1328\n",
       "<10          1308\n",
       "500-999       877\n",
       "5000-9999     563\n",
       "Name: company_size, dtype: int64"
      ]
     },
     "execution_count": 36,
     "metadata": {},
     "output_type": "execute_result"
    }
   ],
   "source": [
    "data_raw['company_size'].value_counts()"
   ]
  },
  {
   "cell_type": "code",
   "execution_count": 37,
   "id": "64ef0e28",
   "metadata": {},
   "outputs": [
    {
     "data": {
      "image/png": "[encoded data removed]",
      "text/plain": [
       "<Figure size 432x288 with 1 Axes>"
      ]
     },
     "metadata": {
      "needs_background": "light"
     },
     "output_type": "display_data"
    }
   ],
   "source": [
    "sns.countplot(x='company_size', data=data_raw)\n",
    "pass"
   ]
  },
  {
   "cell_type": "markdown",
   "id": "a65228cd",
   "metadata": {},
   "source": [
    "Кандидаты имеели опыт работы в очень разных компаниях разных размеров, но привалируют компании с персоналом 50-99 чел"
   ]
  },
  {
   "cell_type": "code",
   "execution_count": 38,
   "id": "a3c66812",
   "metadata": {},
   "outputs": [
    {
     "data": {
      "text/plain": [
       "Pvt Ltd                9817\n",
       "Funded Startup         1001\n",
       "Public Sector           955\n",
       "Early Stage Startup     603\n",
       "NGO                     521\n",
       "Other                   121\n",
       "Name: company_type, dtype: int64"
      ]
     },
     "execution_count": 38,
     "metadata": {},
     "output_type": "execute_result"
    }
   ],
   "source": [
    "data_raw['company_type'].value_counts()"
   ]
  },
  {
   "cell_type": "code",
   "execution_count": 39,
   "id": "a2adeea7",
   "metadata": {},
   "outputs": [
    {
     "data": {
      "image/png": "[encoded data removed]",
      "text/plain": [
       "<Figure size 432x288 with 1 Axes>"
      ]
     },
     "metadata": {
      "needs_background": "light"
     },
     "output_type": "display_data"
    }
   ],
   "source": [
    "sns.countplot(x='company_type', data=data_raw)\n",
    "pass"
   ]
  },
  {
   "cell_type": "markdown",
   "id": "d405e1e3",
   "metadata": {},
   "source": [
    "Обычно кандидаты работают в компаниях типа Pvt Ltd - Общество с ограниченной ответственностью"
   ]
  },
  {
   "cell_type": "code",
   "execution_count": 40,
   "id": "a5d55967",
   "metadata": {},
   "outputs": [
    {
     "data": {
      "text/plain": [
       "1        8040\n",
       ">4       3290\n",
       "2        2900\n",
       "never    2452\n",
       "4        1029\n",
       "3        1024\n",
       "Name: last_new_job, dtype: int64"
      ]
     },
     "execution_count": 40,
     "metadata": {},
     "output_type": "execute_result"
    }
   ],
   "source": [
    "data_raw['last_new_job'].value_counts()"
   ]
  },
  {
   "cell_type": "code",
   "execution_count": 41,
   "id": "4f5cf607",
   "metadata": {},
   "outputs": [
    {
     "data": {
      "image/png": "[encoded data removed]",
      "text/plain": [
       "<Figure size 432x288 with 1 Axes>"
      ]
     },
     "metadata": {
      "needs_background": "light"
     },
     "output_type": "display_data"
    }
   ],
   "source": [
    "sns.countplot(x='last_new_job', data=data_raw)\n",
    "pass"
   ]
  },
  {
   "cell_type": "markdown",
   "id": "7ece41d6",
   "metadata": {},
   "source": [
    "Большинство кандидатов очень быстро сменили работу - всего за 1 год"
   ]
  },
  {
   "cell_type": "markdown",
   "id": "0e81e43d",
   "metadata": {},
   "source": [
    "аааы"
   ]
  },
  {
   "cell_type": "markdown",
   "id": "9979681e",
   "metadata": {},
   "source": [
    "# Боремся с выбросами (outliers)"
   ]
  },
  {
   "cell_type": "code",
   "execution_count": 42,
   "id": "caa69352",
   "metadata": {},
   "outputs": [
    {
     "data": {
      "text/plain": [
       "0.005      2.0\n",
       "0.010      3.0\n",
       "0.050      7.0\n",
       "0.100     11.0\n",
       "0.500     47.0\n",
       "0.900    146.0\n",
       "0.950    188.0\n",
       "0.990    302.0\n",
       "0.995    320.0\n",
       "Name: training_hours, dtype: float64"
      ]
     },
     "execution_count": 42,
     "metadata": {},
     "output_type": "execute_result"
    }
   ],
   "source": [
    "data_raw['training_hours'].quantile([0.005,.01,.05,.1,.5,.9,.95,.99,.995])"
   ]
  },
  {
   "cell_type": "code",
   "execution_count": 43,
   "id": "1ff9635a",
   "metadata": {},
   "outputs": [
    {
     "data": {
      "text/plain": [
       "0.005    0.527\n",
       "0.010    0.550\n",
       "0.050    0.624\n",
       "0.100    0.624\n",
       "0.500    0.903\n",
       "0.900    0.925\n",
       "0.950    0.926\n",
       "0.990    0.939\n",
       "0.995    0.939\n",
       "Name: city_development_index, dtype: float64"
      ]
     },
     "execution_count": 43,
     "metadata": {},
     "output_type": "execute_result"
    }
   ],
   "source": [
    "data_raw['city_development_index'].quantile([0.005,.01,.05,.1,.5,.9,.95,.99,.995])"
   ]
  },
  {
   "cell_type": "code",
   "execution_count": 44,
   "id": "a92859ec",
   "metadata": {},
   "outputs": [
    {
     "data": {
      "text/plain": [
       "(18891, 14)"
      ]
     },
     "execution_count": 44,
     "metadata": {},
     "output_type": "execute_result"
    }
   ],
   "source": [
    "rows_to_drop = data_raw[\n",
    "    (data_raw['training_hours'] < data_raw['training_hours'].quantile(0.005)) | (data_raw['training_hours'] > data_raw['training_hours'].quantile(0.995)) | \n",
    "    (data_raw['city_development_index']  < data_raw['city_development_index' ].quantile(0.005)) | (data_raw['city_development_index']  > data_raw['city_development_index' ].quantile(0.995))].index\n",
    "data = data_raw.drop(rows_to_drop)\n",
    "data.shape"
   ]
  },
  {
   "cell_type": "code",
   "execution_count": 45,
   "id": "b6a7e154",
   "metadata": {},
   "outputs": [
    {
     "data": {
      "text/plain": [
       "Int64Index([   89,   112,   161,   176,   279,   285,   422,   590,   695,\n",
       "              705,\n",
       "            ...\n",
       "            18273, 18287, 18288, 18458, 18537, 18753, 18915, 18943, 19107,\n",
       "            19118],\n",
       "           dtype='int64', length=267)"
      ]
     },
     "execution_count": 45,
     "metadata": {},
     "output_type": "execute_result"
    }
   ],
   "source": [
    "rows_to_drop"
   ]
  },
  {
   "cell_type": "markdown",
   "id": "dbc7b957",
   "metadata": {},
   "source": [
    "Взглянем на всевозможные диаграммы рассеивания для каждой пары признаков (возьмем случайные 10%)"
   ]
  },
  {
   "cell_type": "code",
   "execution_count": 46,
   "id": "d241b0f1",
   "metadata": {},
   "outputs": [
    {
     "data": {
      "text/plain": [
       "<seaborn.axisgrid.PairGrid at 0x7f82b9333df0>"
      ]
     },
     "execution_count": 46,
     "metadata": {},
     "output_type": "execute_result"
    },
    {
     "data": {
      "image/png": "[encoded data removed]",
      "text/plain": [
       "<Figure size 620.125x540 with 12 Axes>"
      ]
     },
     "metadata": {
      "needs_background": "light"
     },
     "output_type": "display_data"
    }
   ],
   "source": [
    "np.random.seed(42)\n",
    "random_subset = np.random.choice(np.arange(data_raw.shape[0]), size=int(0.1 * data_raw.shape[0]), replace=False)\n",
    "sns.pairplot(data_raw.iloc[random_subset], hue='training_hours', diag_kind='hist')"
   ]
  },
  {
   "cell_type": "markdown",
   "id": "56ab57cc",
   "metadata": {},
   "source": [
    "# 3. Обработка пропущенных значений"
   ]
  },
  {
   "cell_type": "markdown",
   "id": "a9bd3369",
   "metadata": {},
   "source": [
    "Подсчитаем пропущенные значения в признаках:\n",
    "\n",
    "1. gender 4508 - 23%\n",
    "2. enrolled_university 386 - 2%\n",
    "3. education_level 460 - 2%\n",
    "4. major_discipline 2813 - 14%\n",
    "5. experience 65 - 0.3%\n",
    "6. company_size 5938 - 30%\n",
    "7. company_type 6140 - 32%\n",
    "8. last_new_job 423 - 2% \n",
    "\n",
    "Удалим пропущенные значения в тех признаках, где процент их минимален\n"
   ]
  },
  {
   "cell_type": "code",
   "execution_count": 74,
   "id": "c596fb7c",
   "metadata": {},
   "outputs": [
    {
     "name": "stdout",
     "output_type": "stream",
     "text": [
      "(18014, 14)\n"
     ]
    },
    {
     "data": {
      "text/plain": [
       "enrollee_id                  0\n",
       "city                         0\n",
       "city_development_index       0\n",
       "gender                    3863\n",
       "relevent_experience          0\n",
       "enrolled_university          0\n",
       "education_level              0\n",
       "major_discipline          2222\n",
       "experience                   0\n",
       "company_size              5310\n",
       "company_type              5476\n",
       "last_new_job                 0\n",
       "training_hours               0\n",
       "target                       0\n",
       "dtype: int64"
      ]
     },
     "execution_count": 74,
     "metadata": {},
     "output_type": "execute_result"
    }
   ],
   "source": [
    "data_raw.dropna(axis=0, how='all', subset=['enrolled_university'], inplace=True)\n",
    "data_raw.dropna(axis=0, how='all', subset=['education_level'], inplace=True)\n",
    "data_raw.dropna(axis=0, how='all', subset=['experience'], inplace=True)\n",
    "data_raw.dropna(axis=0, how='all', subset=['last_new_job'], inplace=True)\n",
    "print(data_raw.shape)\n",
    "data_raw.isna().sum()"
   ]
  },
  {
   "cell_type": "code",
   "execution_count": 76,
   "id": "c5634b5f",
   "metadata": {},
   "outputs": [
    {
     "name": "stdout",
     "output_type": "stream",
     "text": [
      "(18014, 14)\n"
     ]
    },
    {
     "data": {
      "text/plain": [
       "enrollee_id               0\n",
       "city                      0\n",
       "city_development_index    0\n",
       "gender                    0\n",
       "relevent_experience       0\n",
       "enrolled_university       0\n",
       "education_level           0\n",
       "major_discipline          0\n",
       "experience                0\n",
       "company_size              0\n",
       "company_type              0\n",
       "last_new_job              0\n",
       "training_hours            0\n",
       "target                    0\n",
       "dtype: int64"
      ]
     },
     "execution_count": 76,
     "metadata": {},
     "output_type": "execute_result"
    }
   ],
   "source": [
    "data_raw['gender'].fillna(data_raw['gender'].mode().iloc[0], inplace=True)\n",
    "data_raw['major_discipline'].fillna(data_raw['major_discipline'].mode().iloc[0], inplace=True)\n",
    "data_raw['company_size'].fillna(data_raw['company_size'].mode().iloc[0], inplace=True)\n",
    "data_raw['company_type'].fillna(data_raw['company_type'].mode().iloc[0], inplace=True)\n",
    "print(data_raw.shape)\n",
    "data_raw.isna().sum()"
   ]
  },
  {
   "cell_type": "markdown",
   "id": "f4d8dba3",
   "metadata": {},
   "source": [
    "Остальные категориальные пропущенные значения заменям модой"
   ]
  },
  {
   "cell_type": "markdown",
   "id": "adc85256",
   "metadata": {},
   "source": [
    "# 4. Обработка категориальных признаков"
   ]
  },
  {
   "cell_type": "markdown",
   "id": "32e0b065",
   "metadata": {},
   "source": [
    "Закодируем категориальные признаки с помощью числовых признаков, применив метод бинаризации"
   ]
  },
  {
   "cell_type": "code",
   "execution_count": 77,
   "id": "58987f4d",
   "metadata": {},
   "outputs": [
    {
     "name": "stdout",
     "output_type": "stream",
     "text": [
      "(18014, 188)\n"
     ]
    },
    {
     "data": {
      "text/html": [
       "<div>\n",
       "<style scoped>\n",
       "    .dataframe tbody tr th:only-of-type {\n",
       "        vertical-align: middle;\n",
       "    }\n",
       "\n",
       "    .dataframe tbody tr th {\n",
       "        vertical-align: top;\n",
       "    }\n",
       "\n",
       "    .dataframe thead th {\n",
       "        text-align: right;\n",
       "    }\n",
       "</style>\n",
       "<table border=\"1\" class=\"dataframe\">\n",
       "  <thead>\n",
       "    <tr style=\"text-align: right;\">\n",
       "      <th></th>\n",
       "      <th>enrollee_id</th>\n",
       "      <th>city_development_index</th>\n",
       "      <th>training_hours</th>\n",
       "      <th>target</th>\n",
       "      <th>city_city_1</th>\n",
       "      <th>city_city_10</th>\n",
       "      <th>city_city_100</th>\n",
       "      <th>city_city_101</th>\n",
       "      <th>city_city_102</th>\n",
       "      <th>city_city_103</th>\n",
       "      <th>...</th>\n",
       "      <th>company_type_NGO</th>\n",
       "      <th>company_type_Other</th>\n",
       "      <th>company_type_Public Sector</th>\n",
       "      <th>company_type_Pvt Ltd</th>\n",
       "      <th>last_new_job_1</th>\n",
       "      <th>last_new_job_2</th>\n",
       "      <th>last_new_job_3</th>\n",
       "      <th>last_new_job_4</th>\n",
       "      <th>last_new_job_&gt;4</th>\n",
       "      <th>last_new_job_never</th>\n",
       "    </tr>\n",
       "  </thead>\n",
       "  <tbody>\n",
       "    <tr>\n",
       "      <th>0</th>\n",
       "      <td>8949</td>\n",
       "      <td>0.920</td>\n",
       "      <td>36</td>\n",
       "      <td>1.0</td>\n",
       "      <td>0</td>\n",
       "      <td>0</td>\n",
       "      <td>0</td>\n",
       "      <td>0</td>\n",
       "      <td>0</td>\n",
       "      <td>1</td>\n",
       "      <td>...</td>\n",
       "      <td>0</td>\n",
       "      <td>0</td>\n",
       "      <td>0</td>\n",
       "      <td>1</td>\n",
       "      <td>1</td>\n",
       "      <td>0</td>\n",
       "      <td>0</td>\n",
       "      <td>0</td>\n",
       "      <td>0</td>\n",
       "      <td>0</td>\n",
       "    </tr>\n",
       "    <tr>\n",
       "      <th>1</th>\n",
       "      <td>29725</td>\n",
       "      <td>0.776</td>\n",
       "      <td>47</td>\n",
       "      <td>0.0</td>\n",
       "      <td>0</td>\n",
       "      <td>0</td>\n",
       "      <td>0</td>\n",
       "      <td>0</td>\n",
       "      <td>0</td>\n",
       "      <td>0</td>\n",
       "      <td>...</td>\n",
       "      <td>0</td>\n",
       "      <td>0</td>\n",
       "      <td>0</td>\n",
       "      <td>1</td>\n",
       "      <td>0</td>\n",
       "      <td>0</td>\n",
       "      <td>0</td>\n",
       "      <td>0</td>\n",
       "      <td>1</td>\n",
       "      <td>0</td>\n",
       "    </tr>\n",
       "    <tr>\n",
       "      <th>2</th>\n",
       "      <td>11561</td>\n",
       "      <td>0.624</td>\n",
       "      <td>83</td>\n",
       "      <td>0.0</td>\n",
       "      <td>0</td>\n",
       "      <td>0</td>\n",
       "      <td>0</td>\n",
       "      <td>0</td>\n",
       "      <td>0</td>\n",
       "      <td>0</td>\n",
       "      <td>...</td>\n",
       "      <td>0</td>\n",
       "      <td>0</td>\n",
       "      <td>0</td>\n",
       "      <td>1</td>\n",
       "      <td>0</td>\n",
       "      <td>0</td>\n",
       "      <td>0</td>\n",
       "      <td>0</td>\n",
       "      <td>0</td>\n",
       "      <td>1</td>\n",
       "    </tr>\n",
       "    <tr>\n",
       "      <th>4</th>\n",
       "      <td>666</td>\n",
       "      <td>0.767</td>\n",
       "      <td>8</td>\n",
       "      <td>0.0</td>\n",
       "      <td>0</td>\n",
       "      <td>0</td>\n",
       "      <td>0</td>\n",
       "      <td>0</td>\n",
       "      <td>0</td>\n",
       "      <td>0</td>\n",
       "      <td>...</td>\n",
       "      <td>0</td>\n",
       "      <td>0</td>\n",
       "      <td>0</td>\n",
       "      <td>0</td>\n",
       "      <td>0</td>\n",
       "      <td>0</td>\n",
       "      <td>0</td>\n",
       "      <td>1</td>\n",
       "      <td>0</td>\n",
       "      <td>0</td>\n",
       "    </tr>\n",
       "    <tr>\n",
       "      <th>5</th>\n",
       "      <td>21651</td>\n",
       "      <td>0.764</td>\n",
       "      <td>24</td>\n",
       "      <td>1.0</td>\n",
       "      <td>0</td>\n",
       "      <td>0</td>\n",
       "      <td>0</td>\n",
       "      <td>0</td>\n",
       "      <td>0</td>\n",
       "      <td>0</td>\n",
       "      <td>...</td>\n",
       "      <td>0</td>\n",
       "      <td>0</td>\n",
       "      <td>0</td>\n",
       "      <td>1</td>\n",
       "      <td>1</td>\n",
       "      <td>0</td>\n",
       "      <td>0</td>\n",
       "      <td>0</td>\n",
       "      <td>0</td>\n",
       "      <td>0</td>\n",
       "    </tr>\n",
       "  </tbody>\n",
       "</table>\n",
       "<p>5 rows × 188 columns</p>\n",
       "</div>"
      ],
      "text/plain": [
       "   enrollee_id  city_development_index  training_hours  target  city_city_1  \\\n",
       "0         8949                   0.920              36     1.0            0   \n",
       "1        29725                   0.776              47     0.0            0   \n",
       "2        11561                   0.624              83     0.0            0   \n",
       "4          666                   0.767               8     0.0            0   \n",
       "5        21651                   0.764              24     1.0            0   \n",
       "\n",
       "   city_city_10  city_city_100  city_city_101  city_city_102  city_city_103  \\\n",
       "0             0              0              0              0              1   \n",
       "1             0              0              0              0              0   \n",
       "2             0              0              0              0              0   \n",
       "4             0              0              0              0              0   \n",
       "5             0              0              0              0              0   \n",
       "\n",
       "   ...  company_type_NGO  company_type_Other  company_type_Public Sector  \\\n",
       "0  ...                 0                   0                           0   \n",
       "1  ...                 0                   0                           0   \n",
       "2  ...                 0                   0                           0   \n",
       "4  ...                 0                   0                           0   \n",
       "5  ...                 0                   0                           0   \n",
       "\n",
       "   company_type_Pvt Ltd  last_new_job_1  last_new_job_2  last_new_job_3  \\\n",
       "0                     1               1               0               0   \n",
       "1                     1               0               0               0   \n",
       "2                     1               0               0               0   \n",
       "4                     0               0               0               0   \n",
       "5                     1               1               0               0   \n",
       "\n",
       "   last_new_job_4  last_new_job_>4  last_new_job_never  \n",
       "0               0                0                   0  \n",
       "1               0                1                   0  \n",
       "2               0                0                   1  \n",
       "4               1                0                   0  \n",
       "5               0                0                   0  \n",
       "\n",
       "[5 rows x 188 columns]"
      ]
     },
     "execution_count": 77,
     "metadata": {},
     "output_type": "execute_result"
    }
   ],
   "source": [
    "data_raw = pd.get_dummies(data_raw)\n",
    "print(data_raw.shape)\n",
    "data_raw.head()"
   ]
  },
  {
   "cell_type": "markdown",
   "id": "3049fcd4",
   "metadata": {},
   "source": [
    "# 5. Нормализация количественных признаков"
   ]
  },
  {
   "cell_type": "markdown",
   "id": "20702465",
   "metadata": {},
   "source": [
    "Проведем нормализацию количественных признаков с помощью линейного преобразования к заданному отрезку [0,1]:"
   ]
  },
  {
   "cell_type": "code",
   "execution_count": 78,
   "id": "0bec95a1",
   "metadata": {},
   "outputs": [
    {
     "data": {
      "text/html": [
       "<div>\n",
       "<style scoped>\n",
       "    .dataframe tbody tr th:only-of-type {\n",
       "        vertical-align: middle;\n",
       "    }\n",
       "\n",
       "    .dataframe tbody tr th {\n",
       "        vertical-align: top;\n",
       "    }\n",
       "\n",
       "    .dataframe thead th {\n",
       "        text-align: right;\n",
       "    }\n",
       "</style>\n",
       "<table border=\"1\" class=\"dataframe\">\n",
       "  <thead>\n",
       "    <tr style=\"text-align: right;\">\n",
       "      <th></th>\n",
       "      <th>enrollee_id</th>\n",
       "      <th>city_development_index</th>\n",
       "      <th>training_hours</th>\n",
       "      <th>target</th>\n",
       "      <th>city_city_1</th>\n",
       "      <th>city_city_10</th>\n",
       "      <th>city_city_100</th>\n",
       "      <th>city_city_101</th>\n",
       "      <th>city_city_102</th>\n",
       "      <th>city_city_103</th>\n",
       "      <th>...</th>\n",
       "      <th>company_type_NGO</th>\n",
       "      <th>company_type_Other</th>\n",
       "      <th>company_type_Public Sector</th>\n",
       "      <th>company_type_Pvt Ltd</th>\n",
       "      <th>last_new_job_1</th>\n",
       "      <th>last_new_job_2</th>\n",
       "      <th>last_new_job_3</th>\n",
       "      <th>last_new_job_4</th>\n",
       "      <th>last_new_job_&gt;4</th>\n",
       "      <th>last_new_job_never</th>\n",
       "    </tr>\n",
       "  </thead>\n",
       "  <tbody>\n",
       "    <tr>\n",
       "      <th>count</th>\n",
       "      <td>18014.000000</td>\n",
       "      <td>18014.000000</td>\n",
       "      <td>18014.000000</td>\n",
       "      <td>18014.000000</td>\n",
       "      <td>18014.000000</td>\n",
       "      <td>18014.000000</td>\n",
       "      <td>18014.000000</td>\n",
       "      <td>18014.000000</td>\n",
       "      <td>18014.000000</td>\n",
       "      <td>18014.000000</td>\n",
       "      <td>...</td>\n",
       "      <td>18014.000000</td>\n",
       "      <td>18014.000000</td>\n",
       "      <td>18014.000000</td>\n",
       "      <td>18014.000000</td>\n",
       "      <td>18014.000000</td>\n",
       "      <td>18014.000000</td>\n",
       "      <td>18014.000000</td>\n",
       "      <td>18014.000000</td>\n",
       "      <td>18014.000000</td>\n",
       "      <td>18014.000000</td>\n",
       "    </tr>\n",
       "    <tr>\n",
       "      <th>mean</th>\n",
       "      <td>0.506387</td>\n",
       "      <td>0.765924</td>\n",
       "      <td>0.192083</td>\n",
       "      <td>0.245420</td>\n",
       "      <td>0.001388</td>\n",
       "      <td>0.004552</td>\n",
       "      <td>0.014378</td>\n",
       "      <td>0.003886</td>\n",
       "      <td>0.015932</td>\n",
       "      <td>0.232819</td>\n",
       "      <td>...</td>\n",
       "      <td>0.027756</td>\n",
       "      <td>0.006328</td>\n",
       "      <td>0.050627</td>\n",
       "      <td>0.829966</td>\n",
       "      <td>0.432386</td>\n",
       "      <td>0.156933</td>\n",
       "      <td>0.055013</td>\n",
       "      <td>0.056068</td>\n",
       "      <td>0.178195</td>\n",
       "      <td>0.121406</td>\n",
       "    </tr>\n",
       "    <tr>\n",
       "      <th>std</th>\n",
       "      <td>0.289570</td>\n",
       "      <td>0.243743</td>\n",
       "      <td>0.179281</td>\n",
       "      <td>0.430348</td>\n",
       "      <td>0.037228</td>\n",
       "      <td>0.067317</td>\n",
       "      <td>0.119045</td>\n",
       "      <td>0.062217</td>\n",
       "      <td>0.125216</td>\n",
       "      <td>0.422640</td>\n",
       "      <td>...</td>\n",
       "      <td>0.164278</td>\n",
       "      <td>0.079301</td>\n",
       "      <td>0.219242</td>\n",
       "      <td>0.375673</td>\n",
       "      <td>0.495421</td>\n",
       "      <td>0.363748</td>\n",
       "      <td>0.228012</td>\n",
       "      <td>0.230058</td>\n",
       "      <td>0.382687</td>\n",
       "      <td>0.326607</td>\n",
       "    </tr>\n",
       "    <tr>\n",
       "      <th>min</th>\n",
       "      <td>0.000000</td>\n",
       "      <td>0.000000</td>\n",
       "      <td>0.000000</td>\n",
       "      <td>0.000000</td>\n",
       "      <td>0.000000</td>\n",
       "      <td>0.000000</td>\n",
       "      <td>0.000000</td>\n",
       "      <td>0.000000</td>\n",
       "      <td>0.000000</td>\n",
       "      <td>0.000000</td>\n",
       "      <td>...</td>\n",
       "      <td>0.000000</td>\n",
       "      <td>0.000000</td>\n",
       "      <td>0.000000</td>\n",
       "      <td>0.000000</td>\n",
       "      <td>0.000000</td>\n",
       "      <td>0.000000</td>\n",
       "      <td>0.000000</td>\n",
       "      <td>0.000000</td>\n",
       "      <td>0.000000</td>\n",
       "      <td>0.000000</td>\n",
       "    </tr>\n",
       "    <tr>\n",
       "      <th>25%</th>\n",
       "      <td>0.255482</td>\n",
       "      <td>0.592814</td>\n",
       "      <td>0.065672</td>\n",
       "      <td>0.000000</td>\n",
       "      <td>0.000000</td>\n",
       "      <td>0.000000</td>\n",
       "      <td>0.000000</td>\n",
       "      <td>0.000000</td>\n",
       "      <td>0.000000</td>\n",
       "      <td>0.000000</td>\n",
       "      <td>...</td>\n",
       "      <td>0.000000</td>\n",
       "      <td>0.000000</td>\n",
       "      <td>0.000000</td>\n",
       "      <td>1.000000</td>\n",
       "      <td>0.000000</td>\n",
       "      <td>0.000000</td>\n",
       "      <td>0.000000</td>\n",
       "      <td>0.000000</td>\n",
       "      <td>0.000000</td>\n",
       "      <td>0.000000</td>\n",
       "    </tr>\n",
       "    <tr>\n",
       "      <th>50%</th>\n",
       "      <td>0.509647</td>\n",
       "      <td>0.922156</td>\n",
       "      <td>0.137313</td>\n",
       "      <td>0.000000</td>\n",
       "      <td>0.000000</td>\n",
       "      <td>0.000000</td>\n",
       "      <td>0.000000</td>\n",
       "      <td>0.000000</td>\n",
       "      <td>0.000000</td>\n",
       "      <td>0.000000</td>\n",
       "      <td>...</td>\n",
       "      <td>0.000000</td>\n",
       "      <td>0.000000</td>\n",
       "      <td>0.000000</td>\n",
       "      <td>1.000000</td>\n",
       "      <td>0.000000</td>\n",
       "      <td>0.000000</td>\n",
       "      <td>0.000000</td>\n",
       "      <td>0.000000</td>\n",
       "      <td>0.000000</td>\n",
       "      <td>0.000000</td>\n",
       "    </tr>\n",
       "    <tr>\n",
       "      <th>75%</th>\n",
       "      <td>0.758718</td>\n",
       "      <td>0.942116</td>\n",
       "      <td>0.259701</td>\n",
       "      <td>0.000000</td>\n",
       "      <td>0.000000</td>\n",
       "      <td>0.000000</td>\n",
       "      <td>0.000000</td>\n",
       "      <td>0.000000</td>\n",
       "      <td>0.000000</td>\n",
       "      <td>0.000000</td>\n",
       "      <td>...</td>\n",
       "      <td>0.000000</td>\n",
       "      <td>0.000000</td>\n",
       "      <td>0.000000</td>\n",
       "      <td>1.000000</td>\n",
       "      <td>1.000000</td>\n",
       "      <td>0.000000</td>\n",
       "      <td>0.000000</td>\n",
       "      <td>0.000000</td>\n",
       "      <td>0.000000</td>\n",
       "      <td>0.000000</td>\n",
       "    </tr>\n",
       "    <tr>\n",
       "      <th>max</th>\n",
       "      <td>1.000000</td>\n",
       "      <td>1.000000</td>\n",
       "      <td>1.000000</td>\n",
       "      <td>1.000000</td>\n",
       "      <td>1.000000</td>\n",
       "      <td>1.000000</td>\n",
       "      <td>1.000000</td>\n",
       "      <td>1.000000</td>\n",
       "      <td>1.000000</td>\n",
       "      <td>1.000000</td>\n",
       "      <td>...</td>\n",
       "      <td>1.000000</td>\n",
       "      <td>1.000000</td>\n",
       "      <td>1.000000</td>\n",
       "      <td>1.000000</td>\n",
       "      <td>1.000000</td>\n",
       "      <td>1.000000</td>\n",
       "      <td>1.000000</td>\n",
       "      <td>1.000000</td>\n",
       "      <td>1.000000</td>\n",
       "      <td>1.000000</td>\n",
       "    </tr>\n",
       "  </tbody>\n",
       "</table>\n",
       "<p>8 rows × 188 columns</p>\n",
       "</div>"
      ],
      "text/plain": [
       "        enrollee_id  city_development_index  training_hours        target  \\\n",
       "count  18014.000000            18014.000000    18014.000000  18014.000000   \n",
       "mean       0.506387                0.765924        0.192083      0.245420   \n",
       "std        0.289570                0.243743        0.179281      0.430348   \n",
       "min        0.000000                0.000000        0.000000      0.000000   \n",
       "25%        0.255482                0.592814        0.065672      0.000000   \n",
       "50%        0.509647                0.922156        0.137313      0.000000   \n",
       "75%        0.758718                0.942116        0.259701      0.000000   \n",
       "max        1.000000                1.000000        1.000000      1.000000   \n",
       "\n",
       "        city_city_1  city_city_10  city_city_100  city_city_101  \\\n",
       "count  18014.000000  18014.000000   18014.000000   18014.000000   \n",
       "mean       0.001388      0.004552       0.014378       0.003886   \n",
       "std        0.037228      0.067317       0.119045       0.062217   \n",
       "min        0.000000      0.000000       0.000000       0.000000   \n",
       "25%        0.000000      0.000000       0.000000       0.000000   \n",
       "50%        0.000000      0.000000       0.000000       0.000000   \n",
       "75%        0.000000      0.000000       0.000000       0.000000   \n",
       "max        1.000000      1.000000       1.000000       1.000000   \n",
       "\n",
       "       city_city_102  city_city_103  ...  company_type_NGO  \\\n",
       "count   18014.000000   18014.000000  ...      18014.000000   \n",
       "mean        0.015932       0.232819  ...          0.027756   \n",
       "std         0.125216       0.422640  ...          0.164278   \n",
       "min         0.000000       0.000000  ...          0.000000   \n",
       "25%         0.000000       0.000000  ...          0.000000   \n",
       "50%         0.000000       0.000000  ...          0.000000   \n",
       "75%         0.000000       0.000000  ...          0.000000   \n",
       "max         1.000000       1.000000  ...          1.000000   \n",
       "\n",
       "       company_type_Other  company_type_Public Sector  company_type_Pvt Ltd  \\\n",
       "count        18014.000000                18014.000000          18014.000000   \n",
       "mean             0.006328                    0.050627              0.829966   \n",
       "std              0.079301                    0.219242              0.375673   \n",
       "min              0.000000                    0.000000              0.000000   \n",
       "25%              0.000000                    0.000000              1.000000   \n",
       "50%              0.000000                    0.000000              1.000000   \n",
       "75%              0.000000                    0.000000              1.000000   \n",
       "max              1.000000                    1.000000              1.000000   \n",
       "\n",
       "       last_new_job_1  last_new_job_2  last_new_job_3  last_new_job_4  \\\n",
       "count    18014.000000    18014.000000    18014.000000    18014.000000   \n",
       "mean         0.432386        0.156933        0.055013        0.056068   \n",
       "std          0.495421        0.363748        0.228012        0.230058   \n",
       "min          0.000000        0.000000        0.000000        0.000000   \n",
       "25%          0.000000        0.000000        0.000000        0.000000   \n",
       "50%          0.000000        0.000000        0.000000        0.000000   \n",
       "75%          1.000000        0.000000        0.000000        0.000000   \n",
       "max          1.000000        1.000000        1.000000        1.000000   \n",
       "\n",
       "       last_new_job_>4  last_new_job_never  \n",
       "count     18014.000000        18014.000000  \n",
       "mean          0.178195            0.121406  \n",
       "std           0.382687            0.326607  \n",
       "min           0.000000            0.000000  \n",
       "25%           0.000000            0.000000  \n",
       "50%           0.000000            0.000000  \n",
       "75%           0.000000            0.000000  \n",
       "max           1.000000            1.000000  \n",
       "\n",
       "[8 rows x 188 columns]"
      ]
     },
     "execution_count": 78,
     "metadata": {},
     "output_type": "execute_result"
    }
   ],
   "source": [
    "data_normal = (data_raw - data_raw.min(axis=0)) / (data_raw.max(axis=0) - data_raw.min(axis=0))\n",
    "data_normal.describe()"
   ]
  },
  {
   "cell_type": "markdown",
   "id": "d395532a",
   "metadata": {},
   "source": [
    "# 6. Выбор обучающей и тестовой выборки"
   ]
  },
  {
   "cell_type": "markdown",
   "id": "5261c4e6",
   "metadata": {},
   "source": [
    "Для классификации удовлетворенности клиента будем использовать все признаки за исключением ID. Цель - target."
   ]
  },
  {
   "cell_type": "code",
   "execution_count": 79,
   "id": "7320c54f",
   "metadata": {},
   "outputs": [],
   "source": [
    "X = data_normal.drop (['enrollee_id', 'target'], axis=1) \n",
    "y = data_raw['target']"
   ]
  },
  {
   "cell_type": "markdown",
   "id": "e0830a1e",
   "metadata": {},
   "source": [
    "Разобьем данные на обучающую (75%) и тестовую (25%) выборки:"
   ]
  },
  {
   "cell_type": "code",
   "execution_count": 80,
   "id": "11129a06",
   "metadata": {},
   "outputs": [
    {
     "data": {
      "text/plain": [
       "(13510, 4504)"
      ]
     },
     "execution_count": 80,
     "metadata": {},
     "output_type": "execute_result"
    }
   ],
   "source": [
    "from sklearn.model_selection import train_test_split\n",
    "X_train, X_test, y_train, y_test = train_test_split(X, y, test_size = 0.25, random_state = 42)\n",
    "\n",
    "N_train, _ = X_train.shape \n",
    "N_test,  _ = X_test.shape \n",
    "\n",
    "N_train, N_test"
   ]
  },
  {
   "cell_type": "markdown",
   "id": "fcc2c25f",
   "metadata": {},
   "source": [
    "# 7. Обучение модели"
   ]
  },
  {
   "cell_type": "markdown",
   "id": "6b224021",
   "metadata": {},
   "source": [
    "## 7.1 KNN"
   ]
  },
  {
   "cell_type": "markdown",
   "id": "e1629652",
   "metadata": {},
   "source": [
    "Попробуем сначала классификатор с количеством соседей по умолчанию (5):"
   ]
  },
  {
   "cell_type": "code",
   "execution_count": 81,
   "id": "95357b6d",
   "metadata": {},
   "outputs": [
    {
     "name": "stdout",
     "output_type": "stream",
     "text": [
      "Accuracy. Train : 83.05%, Test: 75.42%. \n"
     ]
    }
   ],
   "source": [
    "from sklearn.neighbors import KNeighborsClassifier\n",
    "\n",
    "knn_default = KNeighborsClassifier()\n",
    "knn_default.fit(X_train, y_train)\n",
    "knn_training_predict = 100 * knn_default.score(X_train, y_train)\n",
    "knn_test_predict = 100 * knn_default.score(X_test, y_test)\n",
    "print(\"Accuracy. Train : {:.2f}%, Test: {:.2f}%. \".format(knn_training_predict, knn_test_predict))"
   ]
  },
  {
   "cell_type": "markdown",
   "id": "ce3e53b6",
   "metadata": {},
   "source": [
    "Теперь 10 ближайших соседей:"
   ]
  },
  {
   "cell_type": "code",
   "execution_count": 82,
   "id": "8b122560",
   "metadata": {},
   "outputs": [
    {
     "name": "stdout",
     "output_type": "stream",
     "text": [
      "Accuracy. Train : 80.54%, Test: 76.49%. \n"
     ]
    }
   ],
   "source": [
    "knn_10 = KNeighborsClassifier(n_neighbors = 10)\n",
    "knn_10.fit(X_train, y_train)\n",
    "knn_training_predict = 100 * knn_10.score(X_train, y_train)\n",
    "knn_test_predict = 100 * knn_10.score(X_test, y_test)\n",
    "print(\"Accuracy. Train : {:.2f}%, Test: {:.2f}%. \".format(knn_training_predict, knn_test_predict))\n"
   ]
  },
  {
   "cell_type": "markdown",
   "id": "f2ba06bb",
   "metadata": {},
   "source": [
    "Видим, что точность полученной модели повысилась,  попробуем 20:"
   ]
  },
  {
   "cell_type": "code",
   "execution_count": 86,
   "id": "d4914558",
   "metadata": {},
   "outputs": [
    {
     "name": "stdout",
     "output_type": "stream",
     "text": [
      "Accuracy. Train : 80.21%, Test: 77.15%. \n"
     ]
    }
   ],
   "source": [
    "knn_10 = KNeighborsClassifier(n_neighbors = 15)\n",
    "knn_10.fit(X_train, y_train)\n",
    "knn_training_predict = 100 * knn_10.score(X_train, y_train)\n",
    "knn_test_predict = 100 * knn_10.score(X_test, y_test)\n",
    "print(\"Accuracy. Train : {:.2f}%, Test: {:.2f}%. \".format(knn_training_predict, knn_test_predict))"
   ]
  },
  {
   "cell_type": "markdown",
   "id": "df344d78",
   "metadata": {},
   "source": [
    "Видно, что на 15 точность на тестовой выборке выше, но немного ниже на обучаемой, далее точной тестовой не растет, а вот обучаемая понижается, значит оптимальное значение при методе ближайших соседей - 15"
   ]
  },
  {
   "cell_type": "markdown",
   "id": "2c9e08d7",
   "metadata": {},
   "source": [
    "\n",
    "Вычислим среднеквадратическую ошибку для алгоритма с количеством ближайших соседей по умолчанию:"
   ]
  },
  {
   "cell_type": "code",
   "execution_count": 87,
   "id": "4733adce",
   "metadata": {},
   "outputs": [
    {
     "name": "stdout",
     "output_type": "stream",
     "text": [
      "MSE. Train : 0.53, Test: 0.44. \n"
     ]
    }
   ],
   "source": [
    "knn_train_predict = knn_default.score(X_train, y_train)\n",
    "knn_test_predict = knn_default.score(X_test, y_test)\n",
    "\n",
    "MSE_train = np.mean((knn_train_predict - y_train)**2)\n",
    "MSE_test  = np.mean((knn_test_predict - y_test)**2)\n",
    "print(\"MSE. Train : {:.2f}, Test: {:.2f}. \".format(MSE_train, MSE_test))"
   ]
  },
  {
   "cell_type": "markdown",
   "id": "f8a1d699",
   "metadata": {},
   "source": [
    "## 7.2 Decision Tree"
   ]
  },
  {
   "cell_type": "markdown",
   "id": "2f0b274b",
   "metadata": {},
   "source": [
    "Теперь рассмотрим следующий алгоритм - Дерево решений. Сначала снова воспользуемся параметрами по умолчанию, а именно будем считать, что максимальная глубина алгоритма отсутствует."
   ]
  },
  {
   "cell_type": "code",
   "execution_count": 89,
   "id": "10e86d96",
   "metadata": {},
   "outputs": [
    {
     "name": "stdout",
     "output_type": "stream",
     "text": [
      "Tree Depth: 45\n",
      "Tree Leaves: 3100\n",
      "Accuracy. Train : 99.79%, Test: 71.36%. \n"
     ]
    }
   ],
   "source": [
    "from sklearn.tree import DecisionTreeClassifier\n",
    "\n",
    "dct = DecisionTreeClassifier()\n",
    "dct.fit(X_train,y_train)\n",
    "dct_train_score = 100 * dct.score(X_train, y_train)\n",
    "print ('Tree Depth:', dct.get_depth())\n",
    "print ('Tree Leaves:', dct.get_n_leaves())\n",
    "dct_test_score = 100 * dct.score(X_test, y_test)\n",
    "print(\"Accuracy. Train : {:.2f}%, Test: {:.2f}%. \".format(dct_train_score, dct_test_score))"
   ]
  },
  {
   "cell_type": "markdown",
   "id": "d30ce063",
   "metadata": {},
   "source": [
    "Заметим, что максимальная глубина алгоритма была равна 45. Попробуем уменьшить максимальную глубину до 10:"
   ]
  },
  {
   "cell_type": "code",
   "execution_count": 90,
   "id": "f691391b",
   "metadata": {},
   "outputs": [
    {
     "name": "stdout",
     "output_type": "stream",
     "text": [
      "Tree Depth: 10\n",
      "Tree Leaves: 295\n",
      "Accuracy. Train : 81.49%, Test: 78.09%. \n"
     ]
    }
   ],
   "source": [
    "dct_10 = DecisionTreeClassifier(max_depth=10)\n",
    "dct_10.fit(X_train,y_train)\n",
    "dct_train_score = 100 * dct_10.score(X_train, y_train)\n",
    "print ('Tree Depth:', dct_10.get_depth())\n",
    "print ('Tree Leaves:', dct_10.get_n_leaves())\n",
    "dct_test_score = 100 * dct_10.score(X_test, y_test)\n",
    "print(\"Accuracy. Train : {:.2f}%, Test: {:.2f}%. \".format(dct_train_score, dct_test_score))"
   ]
  },
  {
   "cell_type": "markdown",
   "id": "afeeab6b",
   "metadata": {},
   "source": [
    "Заметим, что качество модели сразу понизилось на обучающей выборке и повысилось на тестовой. \n",
    "Поднимем теперь глубину до 20"
   ]
  },
  {
   "cell_type": "code",
   "execution_count": 91,
   "id": "74a4abad",
   "metadata": {},
   "outputs": [
    {
     "name": "stdout",
     "output_type": "stream",
     "text": [
      "Tree Depth: 20\n",
      "Tree Leaves: 1617\n",
      "Accuracy. Train : 91.65%, Test: 73.73%. \n"
     ]
    }
   ],
   "source": [
    "dct_20 = DecisionTreeClassifier(max_depth=20)\n",
    "dct_20.fit(X_train,y_train)\n",
    "dct_train_score = 100 * dct_20.score(X_train, y_train)\n",
    "print ('Tree Depth:', dct_20.get_depth())\n",
    "print ('Tree Leaves:', dct_20.get_n_leaves())\n",
    "dct_test_score = 100 * dct_20.score(X_test, y_test)\n",
    "print(\"Accuracy. Train : {:.2f}%, Test: {:.2f}%. \".format(dct_train_score, dct_test_score))"
   ]
  },
  {
   "cell_type": "markdown",
   "id": "2f2dd612",
   "metadata": {},
   "source": [
    "Точно на обучаемой опять повысилась,  а на тестовой немного понизилась"
   ]
  },
  {
   "cell_type": "markdown",
   "id": "90ae364c",
   "metadata": {},
   "source": [
    "## 7.3 Выводы по алгоритмам"
   ]
  },
  {
   "cell_type": "markdown",
   "id": "8d5ea380",
   "metadata": {},
   "source": [
    "Алгоритм Дерева Решений оказался точнее алгоритма к-ближайших соседей при оптимальных параметрах каждого из методов на обучающей выборке, но не на тестовой."
   ]
  },
  {
   "cell_type": "markdown",
   "id": "26678e15",
   "metadata": {},
   "source": [
    "# 8. Выводы"
   ]
  },
  {
   "cell_type": "markdown",
   "id": "481e87f8",
   "metadata": {},
   "source": [
    "В данной работе был представлен анализ данных о кандидатах, которые работают/ищут работу, а также решена задача классификации (хотел ли сменить кандидат работу или нет) с помощью моделей, натренированных двумя методами: К-ближайших соседей и Дерева Решений.\n",
    "\n",
    "Таким образом, перед тем, как тренировать модель, нужно проанализировать данные и их подготовить:\n",
    "1. Вычислили основные характеристики\n",
    "2. Проверили пропущенные значени, удалили некоторые, а некоторые заполнили модами\n",
    "3. Провели бинаризацию номинальных признаков\n",
    "4. Разбили данные на обучающую и тестовые выборку, попробовали 2 алгоритма для решения задачи классификации. В данной работе алгоритм Дерева Решений оказался лучше метода к-ближайших соседей как по точности в обучаемой выборке."
   ]
  },
  {
   "cell_type": "code",
   "execution_count": null,
   "id": "53d46c84",
   "metadata": {},
   "outputs": [],
   "source": []
  }
 ],
 "metadata": {
  "kernelspec": {
   "display_name": "Python 3",
   "language": "python",
   "name": "python3"
  },
  "language_info": {
   "codemirror_mode": {
    "name": "ipython",
    "version": 3
   },
   "file_extension": ".py",
   "mimetype": "text/x-python",
   "name": "python",
   "nbconvert_exporter": "python",
   "pygments_lexer": "ipython3",
   "version": "3.8.8"
  }
 },
 "nbformat": 4,
 "nbformat_minor": 5
}
